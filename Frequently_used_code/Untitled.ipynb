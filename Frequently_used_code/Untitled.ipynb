{
 "cells": [
  {
   "cell_type": "code",
   "execution_count": 1,
   "id": "9c366452-b0d6-445d-bf47-65b0546e6bc0",
   "metadata": {},
   "outputs": [],
   "source": [
    "import os"
   ]
  },
  {
   "cell_type": "code",
   "execution_count": 2,
   "id": "62770c23-c979-45d1-bdfd-26f6be7c1d8d",
   "metadata": {},
   "outputs": [
    {
     "name": "stdout",
     "output_type": "stream",
     "text": [
      "On branch test-notebooks\n",
      "Your branch is ahead of 'origin/test-notebooks' by 16 commits.\n",
      "  (use \"git push\" to publish your local commits)\n",
      "\n",
      "Changes to be committed:\n",
      "  (use \"git restore --staged <file>...\" to unstage)\n",
      "\tmodified:   Analyse_multiple_polygons.ipynb\n",
      "\n",
      "Changes not staged for commit:\n",
      "  (use \"git add <file>...\" to update what will be committed)\n",
      "  (use \"git restore <file>...\" to discard changes in working directory)\n",
      "\tmodified:   Animated_timeseries.ipynb\n",
      "\tmodified:   Applying_WOfS_bitmasking.ipynb\n",
      "\tmodified:   Calculating_band_indices.ipynb\n",
      "\tmodified:   Cloud_and_pixel_quality_masking.ipynb\n",
      "\tmodified:   Contour_extraction.ipynb\n",
      "\tmodified:   Downloading_data_with_STAC.ipynb\n",
      "\tmodified:   Exporting_GeoTIFFs.ipynb\n",
      "\tmodified:   Generating_composites.ipynb\n",
      "\tmodified:   Generating_geomedian_composites.ipynb\n",
      "\tmodified:   Image_segmentation.ipynb\n",
      "\tmodified:   Imagery_on_web_map.ipynb\n",
      "\tmodified:   Integrating_external_data.ipynb\n",
      "\tmodified:   Monitoring_water_quality.ipynb\n",
      "\tmodified:   Principal_component_analysis.ipynb\n",
      "\tmodified:   Rasterise_vectorise.ipynb\n",
      "\tmodified:   Reprojecting_data.ipynb\n",
      "\tmodified:   Tidal_modelling.ipynb\n",
      "\tmodified:   Using_load_ard.ipynb\n",
      "\tmodified:   Working_with_time.ipynb\n",
      "\tmodified:   ../Real_world_examples/Water_extent_WOfS.ipynb\n",
      "\n",
      "Untracked files:\n",
      "  (use \"git add <file>...\" to include in what will be committed)\n",
      "\t../Beginners_guide/mydask.png\n",
      "\tUntitled.ipynb\n",
      "\tanimated_timeseries.gif\n",
      "\tanimated_timeseries.mp4\n",
      "\toutput_contours.geojson\n",
      "\ttest.cpg\n",
      "\ttest.dbf\n",
      "\ttest.prj\n",
      "\ttest.shp\n",
      "\ttest.shx\n",
      "\t../Real_world_examples/annual_water_frequency.gif\n",
      "\t../Real_world_examples/filmstrip_example_2013_2021_3years.png\n",
      "\t../Real_world_examples/ml_model.joblib\n",
      "\t../Real_world_examples/ships_2021-03-21.geojson\n",
      "\t../Real_world_examples/ships_2021-03-25.geojson\n",
      "\t../Supplementary_data/Burnt_area_mapping/fire_hotspots/\n",
      "\t../Supplementary_data/SDG_icons/\n",
      "\t../Use_cases/Namibia_annual_cropmask/\n",
      "\t../publish.yml\n",
      "\n"
     ]
    },
    {
     "data": {
      "text/plain": [
       "0"
      ]
     },
     "execution_count": 2,
     "metadata": {},
     "output_type": "execute_result"
    }
   ],
   "source": [
    "os.system(\"git status\")"
   ]
  },
  {
   "cell_type": "code",
   "execution_count": null,
   "id": "05520540-2837-449d-b175-f7804cbdb6f5",
   "metadata": {},
   "outputs": [],
   "source": []
  },
  {
   "cell_type": "code",
   "execution_count": 12,
   "id": "3951d333-24b5-42a1-9665-f230cb8cc73b",
   "metadata": {},
   "outputs": [
    {
     "name": "stdout",
     "output_type": "stream",
     "text": [
      "/home/jovyan/dev/deafrica-sandbox-notebooks/Frequently_used_code/Calculating_band_indices.ipynb\n",
      "/home/jovyan/dev/deafrica-sandbox-notebooks/Frequently_used_code/Monitoring_water_quality.ipynb\n",
      "/home/jovyan/dev/deafrica-sandbox-notebooks/Frequently_used_code/Cloud_and_pixel_quality_masking.ipynb\n",
      "/home/jovyan/dev/deafrica-sandbox-notebooks/Frequently_used_code/Exporting_GeoTIFFs.ipynb\n",
      "/home/jovyan/dev/deafrica-sandbox-notebooks/Frequently_used_code/Working_with_time.ipynb\n",
      "/home/jovyan/dev/deafrica-sandbox-notebooks/Frequently_used_code/Image_segmentation.ipynb\n",
      "/home/jovyan/dev/deafrica-sandbox-notebooks/Frequently_used_code/Generating_composites.ipynb\n",
      "/home/jovyan/dev/deafrica-sandbox-notebooks/Frequently_used_code/Rasterise_vectorise.ipynb\n",
      "/home/jovyan/dev/deafrica-sandbox-notebooks/Frequently_used_code/Analyse_multiple_polygons.ipynb\n",
      "/home/jovyan/dev/deafrica-sandbox-notebooks/Frequently_used_code/Integrating_external_data.ipynb\n",
      "/home/jovyan/dev/deafrica-sandbox-notebooks/Frequently_used_code/Animated_timeseries.ipynb\n",
      "/home/jovyan/dev/deafrica-sandbox-notebooks/Frequently_used_code/Principal_component_analysis.ipynb\n",
      "/home/jovyan/dev/deafrica-sandbox-notebooks/Frequently_used_code/Generating_geomedian_composites.ipynb\n",
      "/home/jovyan/dev/deafrica-sandbox-notebooks/Frequently_used_code/Downloading_data_with_STAC.ipynb\n",
      "/home/jovyan/dev/deafrica-sandbox-notebooks/Frequently_used_code/Tidal_modelling.ipynb\n",
      "/home/jovyan/dev/deafrica-sandbox-notebooks/Frequently_used_code/Imagery_on_web_map.ipynb\n",
      "/home/jovyan/dev/deafrica-sandbox-notebooks/Frequently_used_code/Contour_extraction.ipynb\n",
      "/home/jovyan/dev/deafrica-sandbox-notebooks/Frequently_used_code/Applying_WOfS_bitmasking.ipynb\n",
      "/home/jovyan/dev/deafrica-sandbox-notebooks/Frequently_used_code/Untitled.ipynb\n",
      "/home/jovyan/dev/deafrica-sandbox-notebooks/Frequently_used_code/Reprojecting_data.ipynb\n",
      "/home/jovyan/dev/deafrica-sandbox-notebooks/Frequently_used_code/Using_load_ard.ipynb\n"
     ]
    }
   ],
   "source": [
    "import os \n",
    "import glob\n",
    "\n",
    "# Folder containing the files you wish to commit. \n",
    "current_folder = os.getcwd()\n",
    "# Search criteria for which type files you wish to commit in the folder. \n",
    "search_criteria = current_folder + \"/*.ipynb\"\n",
    "# Search and get a list of files.\n",
    "files_list = glob.glob(search_criteria)\n",
    "\n",
    "# Print the files and confirm these are the ones you wish to commit. \n",
    "# If not refine your search criteria better.\n",
    "for file_name in files_list:\n",
    "    print(file_name)"
   ]
  },
  {
   "cell_type": "code",
   "execution_count": 25,
   "id": "e014b0f4-d790-4998-a072-48a4b887b90d",
   "metadata": {},
   "outputs": [
    {
     "name": "stdout",
     "output_type": "stream",
     "text": [
      "Calculating_band_indices.ipynb\n",
      "Frequently_used_code/Calculating_band_indices.ipynb\n",
      "Monitoring_water_quality.ipynb\n",
      "Frequently_used_code/Monitoring_water_quality.ipynb\n",
      "Cloud_and_pixel_quality_masking.ipynb\n",
      "Frequently_used_code/Cloud_and_pixel_quality_masking.ipynb\n",
      "Exporting_GeoTIFFs.ipynb\n",
      "Frequently_used_code/Exporting_GeoTIFFs.ipynb\n",
      "Working_with_time.ipynb\n",
      "Frequently_used_code/Working_with_time.ipynb\n",
      "Image_segmentation.ipynb\n",
      "Frequently_used_code/Image_segmentation.ipynb\n",
      "Generating_composites.ipynb\n",
      "Frequently_used_code/Generating_composites.ipynb\n",
      "Rasterise_vectorise.ipynb\n",
      "Frequently_used_code/Rasterise_vectorise.ipynb\n",
      "Analyse_multiple_polygons.ipynb\n",
      "Frequently_used_code/Analyse_multiple_polygons.ipynb\n",
      "Integrating_external_data.ipynb\n",
      "Frequently_used_code/Integrating_external_data.ipynb\n",
      "Animated_timeseries.ipynb\n",
      "Frequently_used_code/Animated_timeseries.ipynb\n",
      "Principal_component_analysis.ipynb\n",
      "Frequently_used_code/Principal_component_analysis.ipynb\n",
      "Generating_geomedian_composites.ipynb\n",
      "Frequently_used_code/Generating_geomedian_composites.ipynb\n",
      "Downloading_data_with_STAC.ipynb\n",
      "Frequently_used_code/Downloading_data_with_STAC.ipynb\n",
      "Tidal_modelling.ipynb\n",
      "Frequently_used_code/Tidal_modelling.ipynb\n",
      "Imagery_on_web_map.ipynb\n",
      "Frequently_used_code/Imagery_on_web_map.ipynb\n",
      "Contour_extraction.ipynb\n",
      "Frequently_used_code/Contour_extraction.ipynb\n",
      "Applying_WOfS_bitmasking.ipynb\n",
      "Frequently_used_code/Applying_WOfS_bitmasking.ipynb\n",
      "Untitled.ipynb\n",
      "Frequently_used_code/Untitled.ipynb\n",
      "Reprojecting_data.ipynb\n",
      "Frequently_used_code/Reprojecting_data.ipynb\n",
      "Using_load_ard.ipynb\n",
      "Frequently_used_code/Using_load_ard.ipynb\n"
     ]
    }
   ],
   "source": [
    "# Iterate over the file list to add and commit each individual file.\n",
    "for file_name in files_list:\n",
    "    # Define the file_names variations going to be used for the git add and commit commands. \n",
    "    # This step depends on the current directory you are working form.\n",
    "    git_add_file_name = file_name.replace('/home/jovyan/dev/deafrica-sandbox-notebooks/Frequently_used_code/', '')\n",
    "    git_commit_file_name = file_name.replace('/home/jovyan/dev/deafrica-sandbox-notebooks/', '')\n",
    "    # Stage the file in git.\n",
    "    os.system(f\"git add {}\")\n",
    "    # Commit the file.\n",
    "    os.system(f'git commit -m {})\n",
    "    print(git_add_file_name)\n",
    "    print(git_commit_file_name)\n",
    "    \n"
   ]
  },
  {
   "cell_type": "code",
   "execution_count": 18,
   "id": "5c9f7ba2-0db4-441e-b85d-ed9ac728acbe",
   "metadata": {},
   "outputs": [
    {
     "data": {
      "text/plain": [
       "'3.8.10 (default, Nov 26 2021, 20:14:08) \\n[GCC 9.3.0]'"
      ]
     },
     "execution_count": 18,
     "metadata": {},
     "output_type": "execute_result"
    }
   ],
   "source": [
    "import sys\n",
    "sys.version"
   ]
  },
  {
   "cell_type": "code",
   "execution_count": null,
   "id": "fe13167a-fcb7-4220-bb66-8a0b2f83ca5a",
   "metadata": {},
   "outputs": [],
   "source": []
  }
 ],
 "metadata": {
  "kernelspec": {
   "display_name": "Python 3 (ipykernel)",
   "language": "python",
   "name": "python3"
  },
  "language_info": {
   "codemirror_mode": {
    "name": "ipython",
    "version": 3
   },
   "file_extension": ".py",
   "mimetype": "text/x-python",
   "name": "python",
   "nbconvert_exporter": "python",
   "pygments_lexer": "ipython3",
   "version": "3.8.10"
  },
  "widgets": {
   "application/vnd.jupyter.widget-state+json": {
    "state": {},
    "version_major": 2,
    "version_minor": 0
   }
  }
 },
 "nbformat": 4,
 "nbformat_minor": 5
}
